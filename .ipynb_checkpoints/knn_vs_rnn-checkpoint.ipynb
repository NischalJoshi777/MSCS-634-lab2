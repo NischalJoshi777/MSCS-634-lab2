{
 "cells": [
  {
   "cell_type": "code",
   "execution_count": 9,
   "id": "90db1747-47b9-40c8-997d-9efa2a3301fa",
   "metadata": {},
   "outputs": [],
   "source": [
    "# Lab Assignment 2: K-Nearest Neighbors vs Radius Neighbors\n",
    "# Name: Nischal Joshi\n",
    "# Course: MSCS 634 Advanced Data Mining and Big Data. \n",
    "# Lab Title: Classification with KNN and RNN using the Wine Dataset"
   ]
  },
  {
   "cell_type": "code",
   "execution_count": null,
   "id": "7f7b992a-47d4-4a67-8443-7eba5a79694c",
   "metadata": {},
   "outputs": [],
   "source": [
    "# Importing the libraries for the task\n",
    "from sklearn.datasets import load_wine\n",
    "from sklearn.model_selection import train_test_split\n",
    "from sklearn.preprocessing import StandardScaler\n",
    "import pandas as pd\n",
    "import matplotlib.pyplot as plt\n",
    "import numpy as np\n",
    "\n",
    "# Loading the wine dataset from Sklearn\n",
    "wine = load_wine()\n",
    "X = wine.data\n",
    "y = wine.target\n",
    "\n",
    "# Convert to DataFrame for exploration\n",
    "df = pd.DataFrame(X, columns= wine.feature_names)\n",
    "df['target'] = y\n",
    "\n",
    "# Basic Exploration\n",
    "print(\"Dataset shape:\", df.shape)\n",
    "print(\"\\nClass Distribution:\")\n",
    "print(df['target'].value_counts())\n",
    "df.head()"
   ]
  },
  {
   "cell_type": "code",
   "execution_count": null,
   "id": "a4bf6eca-d2cc-4572-b9ea-1adf3b5a6283",
   "metadata": {},
   "outputs": [],
   "source": [
    "## Spliting the data as Train-test(80/20)\n",
    "X_train, X_test, y_train, y_test = train_test_split(X, y, test_size=0.2, random_state=42)\n",
    "# Utilizing feature scaling.\n",
    "scaler = StandardScaler()\n",
    "X_train_scaled = scaler.fit_transform(X_train)\n",
    "X_test_scaled = scaler.transform(X_test)\n",
    "print(\"train test Completed\");"
   ]
  },
  {
   "cell_type": "code",
   "execution_count": null,
   "id": "d9813068-0012-4cbd-a819-a1621a1f0df0",
   "metadata": {},
   "outputs": [],
   "source": [
    "#Implementing K Nearest Neighbors\n",
    "from sklearn.neighbors import KNeighborsClassifier\n",
    "from sklearn.metrics import accuracy_score\n",
    "\n",
    "k_values = [1, 5, 11, 15, 21]\n",
    "knn_accuracies = []\n",
    "\n",
    "for k in k_values:\n",
    "    knn = KNeighborsClassifier(n_neighbors=k)\n",
    "    knn.fit(X_train_scaled, y_train)\n",
    "    y_pred = knn.predict(X_test_scaled)\n",
    "    acc = accuracy_score(y_test, y_pred)\n",
    "    knn_accuracies.append(acc)\n",
    "    print(f\"K={k}, Accuracy={acc:.4f}\")"
   ]
  },
  {
   "cell_type": "code",
   "execution_count": null,
   "id": "7bc34784-7032-40b7-a597-97c45d8a26c8",
   "metadata": {},
   "outputs": [],
   "source": [
    "from sklearn.neighbors import RadiusNeighborsClassifier\n",
    "\n",
    "r_values = [350, 400, 450, 500, 550, 600]\n",
    "rnn_accuracies = []\n",
    "\n",
    "for r in r_values:\n",
    "    rnn = RadiusNeighborsClassifier(radius=r)\n",
    "    try:\n",
    "        rnn.fit(X_train_scaled, y_train)\n",
    "        y_pred = rnn.predict(X_test_scaled)\n",
    "        acc = accuracy_score(y_test, y_pred)\n",
    "    except ValueError:\n",
    "        acc = 0  # RNN fails where no neighbor is in the re\n",
    "    rnn_accuracies.append(acc)\n",
    "    print(f\"Radius={r}, Accuracy={acc:.4f}\")\n"
   ]
  },
  {
   "cell_type": "code",
   "execution_count": null,
   "id": "a50292a2-e7e7-4c4d-958a-85a73742b422",
   "metadata": {},
   "outputs": [],
   "source": [
    "#Ploting for KNN\n",
    "plt.figure(figsize=(10, 5))\n",
    "plt.plot(k_values, knn_accuracies, marker='o', color='red', label='KNN Accuracy')\n",
    "plt.title('KNN-Accuracy vs K-Value')\n",
    "plt.xlabel('No of Neighbors (K)')\n",
    "plt.ylabel('Accuracy')\n",
    "plt.grid(True)\n",
    "plt.legend()\n",
    "plt.show()"
   ]
  },
  {
   "cell_type": "code",
   "execution_count": null,
   "id": "8052d22a-4faa-4f63-b209-8b47f215e43f",
   "metadata": {},
   "outputs": [],
   "source": [
    "# Plotting for RNN\n",
    "plt.figure(figsize=(10, 5))\n",
    "plt.plot(r_values, rnn_accuracies, marker='s', color='green', label='RNN Accuracy')\n",
    "plt.title('RNN-Accuracy vs Radius-Value')\n",
    "plt.xlabel('Radius')\n",
    "plt.ylabel('Accuracy')\n",
    "plt.grid(True)\n",
    "plt.legend()\n",
    "plt.show()"
   ]
  },
  {
   "cell_type": "code",
   "execution_count": 1,
   "id": "6ad96edc-928b-4bf4-947f-c71b48a80314",
   "metadata": {},
   "outputs": [
    {
     "ename": "NameError",
     "evalue": "name 'np' is not defined",
     "output_type": "error",
     "traceback": [
      "\u001b[0;31m---------------------------------------------------------------------------\u001b[0m",
      "\u001b[0;31mNameError\u001b[0m                                 Traceback (most recent call last)",
      "Cell \u001b[0;32mIn[1], line 5\u001b[0m\n\u001b[1;32m      1\u001b[0m \u001b[38;5;66;03m# Analysis and Observations\u001b[39;00m\n\u001b[1;32m      2\u001b[0m \n\u001b[1;32m      3\u001b[0m \u001b[38;5;66;03m# Performance Summary\u001b[39;00m\n\u001b[1;32m      4\u001b[0m \u001b[38;5;66;03m# KNN Results Analysis\u001b[39;00m\n\u001b[0;32m----> 5\u001b[0m best_knn_idx \u001b[38;5;241m=\u001b[39m np\u001b[38;5;241m.\u001b[39margmax(knn_accuracies)\n\u001b[1;32m      6\u001b[0m worst_knn_idx \u001b[38;5;241m=\u001b[39m np\u001b[38;5;241m.\u001b[39margmin(knn_accuracies)\n\u001b[1;32m      8\u001b[0m \u001b[38;5;28mprint\u001b[39m(\u001b[38;5;124m\"\u001b[39m\u001b[38;5;124mKNN Performance Analysis:\u001b[39m\u001b[38;5;124m\"\u001b[39m)\n",
      "\u001b[0;31mNameError\u001b[0m: name 'np' is not defined"
     ]
    }
   ],
   "source": [
    "# Analysis and Observations\n",
    "\n",
    "# Performance Summary\n",
    "# KNN Results Analysis\n",
    "best_knn_idx = np.argmax(knn_accuracies)\n",
    "worst_knn_idx = np.argmin(knn_accuracies)\n",
    "\n",
    "print(\"KNN Performance Analysis:\")\n",
    "print(f\" Best Performance: K={k_values[best_knn_idx]}, Accuracy={knn_accuracies[best_knn_idx]:.4f}\")\n",
    "print(f\" Worst Performance: K={k_values[worst_knn_idx]}, Accuracy={knn_accuracies[worst_knn_idx]:.4f}\")\n",
    "print(f\" Performance Range: {max(knn_accuracies) - min(knn_accuracies):.4f}\")\n",
    "print(f\" Average Accuracy: {np.mean(knn_accuracies):.4f}\")\n",
    "\n",
    "# RNN Results Analysis\n",
    "valid_rnn_accuracies = [acc for acc in rnn_accuracies if acc > 0]\n",
    "failed_predictions = rnn_accuracies.count(0)\n",
    "\n",
    "if valid_rnn_accuracies:\n",
    "    best_rnn_idx = rnn_accuracies.index(max(valid_rnn_accuracies))\n",
    "    print(f\"\\nRNN Performance Analysis:\")\n",
    "    print(f\" Best Performance: Radius={r_values[best_rnn_idx]}, Accuracy={max(valid_rnn_accuracies):.4f}\")\n",
    "    print(f\" Failed Predictions: {failed_predictions}/{len(r_values)} radius values\")\n",
    "    print(f\" Success Rate: {len(valid_rnn_accuracies)}/{len(r_values)} ({len(valid_rnn_accuracies)/len(r_values)*100:.1f}%)\")\n",
    "    if len(valid_rnn_accuracies) > 1:\n",
    "        print(f\" Performance Range (valid): {max(valid_rnn_accuracies) - min(valid_rnn_accuracies):.4f}\")\n",
    "    print(f\" Average Accuracy (valid only): {np.mean(valid_rnn_accuracies):.4f}\")\n",
    "else:\n",
    "    print(f\"\\nRNN Performance Analysis:\")\n",
    "    print(f\" All radius values failed to make predictions\")\n",
    "\n"
   ]
  },
  {
   "cell_type": "code",
   "execution_count": null,
   "id": "3ad5c6ab-71c8-4888-b49e-43956baced21",
   "metadata": {},
   "outputs": [],
   "source": [
    "#Parameter Sensitivity Analysis\n",
    "# KNN Sensitivity\n",
    "knn_std = np.std(knn_accuracies)\n",
    "print(f\" KNN Parameter Sensitivity:\")\n",
    "print(f\" Standard Deviation: {knn_std:.4f}\")\n",
    "print(f\" Coefficient of Variation: {knn_std/np.mean(knn_accuracies)*100:.2f}%\")\n",
    "if knn_std < 0.05:\n",
    "    knn_sensitivity = \"Low\"\n",
    "elif knn_std < 0.1:\n",
    "    knn_sensitivity = \"Moderate\"\n",
    "else:\n",
    "    knn_sensitivity = \"High\"\n",
    "print(f\" Sensitivity Level: {knn_sensitivity}\")\n",
    "\n",
    "# RNN Sensitivity\n",
    "if len(valid_rnn_accuracies) > 1:\n",
    "    rnn_std = np.std(valid_rnn_accuracies)\n",
    "    print(f\"\\nRNN Parameter Sensitivity:\")\n",
    "    print(f\"Standard Deviation (valid): {rnn_std:.4f}\")\n",
    "    print(f\"Coefficient of Variation: {rnn_std/np.mean(valid_rnn_accuracies)*100:.2f}%\")\n",
    "    print(f\"Failure Rate: {failed_predictions/len(r_values)*100:.1f}%\")\n",
    "    rnn_sensitivity = \"Very High (due to failures)\"\n",
    "else:\n",
    "    rnn_sensitivity = \"Extremely High (mostly failed)\"\n",
    "\n",
    "print(f\" Sensitivity Level: {rnn_sensitivity}\")"
   ]
  }
 ],
 "metadata": {
  "kernelspec": {
   "display_name": "Python [conda env:base] *",
   "language": "python",
   "name": "conda-base-py"
  },
  "language_info": {
   "codemirror_mode": {
    "name": "ipython",
    "version": 3
   },
   "file_extension": ".py",
   "mimetype": "text/x-python",
   "name": "python",
   "nbconvert_exporter": "python",
   "pygments_lexer": "ipython3",
   "version": "3.12.7"
  }
 },
 "nbformat": 4,
 "nbformat_minor": 5
}
