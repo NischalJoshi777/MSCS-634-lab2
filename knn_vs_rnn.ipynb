{
 "cells": [
  {
   "cell_type": "code",
   "execution_count": 9,
   "id": "90db1747-47b9-40c8-997d-9efa2a3301fa",
   "metadata": {},
   "outputs": [],
   "source": [
    "# Lab Assignment 2: K-Nearest Neighbors vs Radius Neighbors\n",
    "# Name: Nischal Joshi\n",
    "# Course: MSCS 634 Advanced Data Mining and Big Data. \n",
    "# Lab Title: Classification with KNN and RNN using the Wine Dataset"
   ]
  },
  {
   "cell_type": "code",
   "execution_count": 3,
   "id": "7f7b992a-47d4-4a67-8443-7eba5a79694c",
   "metadata": {},
   "outputs": [
    {
     "name": "stdout",
     "output_type": "stream",
     "text": [
      "Dataset shape: (178, 14)\n",
      "\n",
      "Class Distribution:\n",
      "target\n",
      "1    71\n",
      "0    59\n",
      "2    48\n",
      "Name: count, dtype: int64\n"
     ]
    },
    {
     "data": {
      "text/html": [
       "<div>\n",
       "<style scoped>\n",
       "    .dataframe tbody tr th:only-of-type {\n",
       "        vertical-align: middle;\n",
       "    }\n",
       "\n",
       "    .dataframe tbody tr th {\n",
       "        vertical-align: top;\n",
       "    }\n",
       "\n",
       "    .dataframe thead th {\n",
       "        text-align: right;\n",
       "    }\n",
       "</style>\n",
       "<table border=\"1\" class=\"dataframe\">\n",
       "  <thead>\n",
       "    <tr style=\"text-align: right;\">\n",
       "      <th></th>\n",
       "      <th>alcohol</th>\n",
       "      <th>malic_acid</th>\n",
       "      <th>ash</th>\n",
       "      <th>alcalinity_of_ash</th>\n",
       "      <th>magnesium</th>\n",
       "      <th>total_phenols</th>\n",
       "      <th>flavanoids</th>\n",
       "      <th>nonflavanoid_phenols</th>\n",
       "      <th>proanthocyanins</th>\n",
       "      <th>color_intensity</th>\n",
       "      <th>hue</th>\n",
       "      <th>od280/od315_of_diluted_wines</th>\n",
       "      <th>proline</th>\n",
       "      <th>target</th>\n",
       "    </tr>\n",
       "  </thead>\n",
       "  <tbody>\n",
       "    <tr>\n",
       "      <th>0</th>\n",
       "      <td>14.23</td>\n",
       "      <td>1.71</td>\n",
       "      <td>2.43</td>\n",
       "      <td>15.6</td>\n",
       "      <td>127.0</td>\n",
       "      <td>2.80</td>\n",
       "      <td>3.06</td>\n",
       "      <td>0.28</td>\n",
       "      <td>2.29</td>\n",
       "      <td>5.64</td>\n",
       "      <td>1.04</td>\n",
       "      <td>3.92</td>\n",
       "      <td>1065.0</td>\n",
       "      <td>0</td>\n",
       "    </tr>\n",
       "    <tr>\n",
       "      <th>1</th>\n",
       "      <td>13.20</td>\n",
       "      <td>1.78</td>\n",
       "      <td>2.14</td>\n",
       "      <td>11.2</td>\n",
       "      <td>100.0</td>\n",
       "      <td>2.65</td>\n",
       "      <td>2.76</td>\n",
       "      <td>0.26</td>\n",
       "      <td>1.28</td>\n",
       "      <td>4.38</td>\n",
       "      <td>1.05</td>\n",
       "      <td>3.40</td>\n",
       "      <td>1050.0</td>\n",
       "      <td>0</td>\n",
       "    </tr>\n",
       "    <tr>\n",
       "      <th>2</th>\n",
       "      <td>13.16</td>\n",
       "      <td>2.36</td>\n",
       "      <td>2.67</td>\n",
       "      <td>18.6</td>\n",
       "      <td>101.0</td>\n",
       "      <td>2.80</td>\n",
       "      <td>3.24</td>\n",
       "      <td>0.30</td>\n",
       "      <td>2.81</td>\n",
       "      <td>5.68</td>\n",
       "      <td>1.03</td>\n",
       "      <td>3.17</td>\n",
       "      <td>1185.0</td>\n",
       "      <td>0</td>\n",
       "    </tr>\n",
       "    <tr>\n",
       "      <th>3</th>\n",
       "      <td>14.37</td>\n",
       "      <td>1.95</td>\n",
       "      <td>2.50</td>\n",
       "      <td>16.8</td>\n",
       "      <td>113.0</td>\n",
       "      <td>3.85</td>\n",
       "      <td>3.49</td>\n",
       "      <td>0.24</td>\n",
       "      <td>2.18</td>\n",
       "      <td>7.80</td>\n",
       "      <td>0.86</td>\n",
       "      <td>3.45</td>\n",
       "      <td>1480.0</td>\n",
       "      <td>0</td>\n",
       "    </tr>\n",
       "    <tr>\n",
       "      <th>4</th>\n",
       "      <td>13.24</td>\n",
       "      <td>2.59</td>\n",
       "      <td>2.87</td>\n",
       "      <td>21.0</td>\n",
       "      <td>118.0</td>\n",
       "      <td>2.80</td>\n",
       "      <td>2.69</td>\n",
       "      <td>0.39</td>\n",
       "      <td>1.82</td>\n",
       "      <td>4.32</td>\n",
       "      <td>1.04</td>\n",
       "      <td>2.93</td>\n",
       "      <td>735.0</td>\n",
       "      <td>0</td>\n",
       "    </tr>\n",
       "  </tbody>\n",
       "</table>\n",
       "</div>"
      ],
      "text/plain": [
       "   alcohol  malic_acid   ash  alcalinity_of_ash  magnesium  total_phenols  \\\n",
       "0    14.23        1.71  2.43               15.6      127.0           2.80   \n",
       "1    13.20        1.78  2.14               11.2      100.0           2.65   \n",
       "2    13.16        2.36  2.67               18.6      101.0           2.80   \n",
       "3    14.37        1.95  2.50               16.8      113.0           3.85   \n",
       "4    13.24        2.59  2.87               21.0      118.0           2.80   \n",
       "\n",
       "   flavanoids  nonflavanoid_phenols  proanthocyanins  color_intensity   hue  \\\n",
       "0        3.06                  0.28             2.29             5.64  1.04   \n",
       "1        2.76                  0.26             1.28             4.38  1.05   \n",
       "2        3.24                  0.30             2.81             5.68  1.03   \n",
       "3        3.49                  0.24             2.18             7.80  0.86   \n",
       "4        2.69                  0.39             1.82             4.32  1.04   \n",
       "\n",
       "   od280/od315_of_diluted_wines  proline  target  \n",
       "0                          3.92   1065.0       0  \n",
       "1                          3.40   1050.0       0  \n",
       "2                          3.17   1185.0       0  \n",
       "3                          3.45   1480.0       0  \n",
       "4                          2.93    735.0       0  "
      ]
     },
     "execution_count": 3,
     "metadata": {},
     "output_type": "execute_result"
    }
   ],
   "source": [
    "# Importing the libraries for the task\n",
    "from sklearn.datasets import load_wine\n",
    "from sklearn.model_selection import train_test_split\n",
    "from sklearn.preprocessing import StandardScaler\n",
    "import pandas as pd\n",
    "import matplotlib.pyplot as plt\n",
    "import numpy as np\n",
    "\n",
    "# Loading the wine dataset from Sklearn\n",
    "wine = load_wine()\n",
    "X = wine.data\n",
    "y = wine.target\n",
    "\n",
    "# Convert to DataFrame for exploration\n",
    "df = pd.DataFrame(X, columns= wine.feature_names)\n",
    "df['target'] = y\n",
    "\n",
    "# Basic Exploration\n",
    "print(\"Dataset shape:\", df.shape)\n",
    "print(\"\\nClass Distribution:\")\n",
    "print(df['target'].value_counts())\n",
    "df.head()"
   ]
  },
  {
   "cell_type": "code",
   "execution_count": 5,
   "id": "a4bf6eca-d2cc-4572-b9ea-1adf3b5a6283",
   "metadata": {},
   "outputs": [
    {
     "name": "stdout",
     "output_type": "stream",
     "text": [
      "train test Completed\n"
     ]
    }
   ],
   "source": [
    "## Spliting the data as Train-test(80/20)\n",
    "X_train, X_test, y_train, y_test = train_test_split(X, y, test_size=0.2, random_state=42)\n",
    "# Utilizing feature scaling.\n",
    "scaler = StandardScaler()\n",
    "X_train_scaled = scaler.fit_transform(X_train)\n",
    "X_test_scaled = scaler.transform(X_test)\n",
    "print(\"train test Completed\");"
   ]
  },
  {
   "cell_type": "code",
   "execution_count": 7,
   "id": "d9813068-0012-4cbd-a819-a1621a1f0df0",
   "metadata": {},
   "outputs": [
    {
     "name": "stdout",
     "output_type": "stream",
     "text": [
      "K=1, Accuracy=0.9444\n",
      "K=5, Accuracy=0.9444\n",
      "K=11, Accuracy=0.9444\n",
      "K=15, Accuracy=0.9722\n",
      "K=21, Accuracy=0.9444\n"
     ]
    }
   ],
   "source": [
    "#Implementing K Nearest Neighbors\n",
    "from sklearn.neighbors import KNeighborsClassifier\n",
    "from sklearn.metrics import accuracy_score\n",
    "\n",
    "k_values = [1, 5, 11, 15, 21]\n",
    "knn_accuracies = []\n",
    "\n",
    "for k in k_values:\n",
    "    knn = KNeighborsClassifier(n_neighbors=k)\n",
    "    knn.fit(X_train_scaled, y_train)\n",
    "    y_pred = knn.predict(X_test_scaled)\n",
    "    acc = accuracy_score(y_test, y_pred)\n",
    "    knn_accuracies.append(acc)\n",
    "    print(f\"K={k}, Accuracy={acc:.4f}\")"
   ]
  },
  {
   "cell_type": "code",
   "execution_count": 9,
   "id": "7bc34784-7032-40b7-a597-97c45d8a26c8",
   "metadata": {},
   "outputs": [
    {
     "name": "stdout",
     "output_type": "stream",
     "text": [
      "Radius=350, Accuracy=0.3889\n",
      "Radius=400, Accuracy=0.3889\n",
      "Radius=450, Accuracy=0.3889\n",
      "Radius=500, Accuracy=0.3889\n",
      "Radius=550, Accuracy=0.3889\n",
      "Radius=600, Accuracy=0.3889\n"
     ]
    }
   ],
   "source": [
    "from sklearn.neighbors import RadiusNeighborsClassifier\n",
    "\n",
    "r_values = [350, 400, 450, 500, 550, 600]\n",
    "rnn_accuracies = []\n",
    "\n",
    "for r in r_values:\n",
    "    rnn = RadiusNeighborsClassifier(radius=r)\n",
    "    try:\n",
    "        rnn.fit(X_train_scaled, y_train)\n",
    "        y_pred = rnn.predict(X_test_scaled)\n",
    "        acc = accuracy_score(y_test, y_pred)\n",
    "    except ValueError:\n",
    "        acc = 0  # RNN fails where no neighbor is in the re\n",
    "    rnn_accuracies.append(acc)\n",
    "    print(f\"Radius={r}, Accuracy={acc:.4f}\")\n"
   ]
  },
  {
   "cell_type": "code",
   "execution_count": 11,
   "id": "a50292a2-e7e7-4c4d-958a-85a73742b422",
   "metadata": {},
   "outputs": [
    {
     "data": {
      "image/png": "[encoded data removed]",
      "text/plain": [
       "<Figure size 1000x500 with 1 Axes>"
      ]
     },
     "metadata": {},
     "output_type": "display_data"
    }
   ],
   "source": [
    "#Ploting for KNN\n",
    "plt.figure(figsize=(10, 5))\n",
    "plt.plot(k_values, knn_accuracies, marker='o', color='red', label='KNN Accuracy')\n",
    "plt.title('KNN-Accuracy vs K-Value')\n",
    "plt.xlabel('No of Neighbors (K)')\n",
    "plt.ylabel('Accuracy')\n",
    "plt.grid(True)\n",
    "plt.legend()\n",
    "plt.show()"
   ]
  },
  {
   "cell_type": "code",
   "execution_count": 13,
   "id": "8052d22a-4faa-4f63-b209-8b47f215e43f",
   "metadata": {},
   "outputs": [
    {
     "data": {
      "image/png": "[encoded data removed]",
      "text/plain": [
       "<Figure size 1000x500 with 1 Axes>"
      ]
     },
     "metadata": {},
     "output_type": "display_data"
    }
   ],
   "source": [
    "# Plotting for RNN\n",
    "plt.figure(figsize=(10, 5))\n",
    "plt.plot(r_values, rnn_accuracies, marker='s', color='green', label='RNN Accuracy')\n",
    "plt.title('RNN-Accuracy vs Radius-Value')\n",
    "plt.xlabel('Radius')\n",
    "plt.ylabel('Accuracy')\n",
    "plt.grid(True)\n",
    "plt.legend()\n",
    "plt.show()"
   ]
  },
  {
   "cell_type": "code",
   "execution_count": 15,
   "id": "6ad96edc-928b-4bf4-947f-c71b48a80314",
   "metadata": {},
   "outputs": [
    {
     "name": "stdout",
     "output_type": "stream",
     "text": [
      "KNN Performance Analysis:\n",
      " Best Performance: K=15, Accuracy=0.9722\n",
      " Worst Performance: K=1, Accuracy=0.9444\n",
      " Performance Range: 0.0278\n",
      " Average Accuracy: 0.9500\n",
      "\n",
      "RNN Performance Analysis:\n",
      " Best Performance: Radius=350, Accuracy=0.3889\n",
      " Failed Predictions: 0/6 radius values\n",
      " Success Rate: 6/6 (100.0%)\n",
      " Performance Range (valid): 0.0000\n",
      " Average Accuracy (valid only): 0.3889\n"
     ]
    }
   ],
   "source": [
    "# Analysis and Observations\n",
    "\n",
    "# Performance Summary\n",
    "# KNN Results Analysis\n",
    "best_knn_idx = np.argmax(knn_accuracies)\n",
    "worst_knn_idx = np.argmin(knn_accuracies)\n",
    "\n",
    "print(\"KNN Performance Analysis:\")\n",
    "print(f\" Best Performance: K={k_values[best_knn_idx]}, Accuracy={knn_accuracies[best_knn_idx]:.4f}\")\n",
    "print(f\" Worst Performance: K={k_values[worst_knn_idx]}, Accuracy={knn_accuracies[worst_knn_idx]:.4f}\")\n",
    "print(f\" Performance Range: {max(knn_accuracies) - min(knn_accuracies):.4f}\")\n",
    "print(f\" Average Accuracy: {np.mean(knn_accuracies):.4f}\")\n",
    "\n",
    "# RNN Results Analysis\n",
    "valid_rnn_accuracies = [acc for acc in rnn_accuracies if acc > 0]\n",
    "failed_predictions = rnn_accuracies.count(0)\n",
    "\n",
    "if valid_rnn_accuracies:\n",
    "    best_rnn_idx = rnn_accuracies.index(max(valid_rnn_accuracies))\n",
    "    print(f\"\\nRNN Performance Analysis:\")\n",
    "    print(f\" Best Performance: Radius={r_values[best_rnn_idx]}, Accuracy={max(valid_rnn_accuracies):.4f}\")\n",
    "    print(f\" Failed Predictions: {failed_predictions}/{len(r_values)} radius values\")\n",
    "    print(f\" Success Rate: {len(valid_rnn_accuracies)}/{len(r_values)} ({len(valid_rnn_accuracies)/len(r_values)*100:.1f}%)\")\n",
    "    if len(valid_rnn_accuracies) > 1:\n",
    "        print(f\" Performance Range (valid): {max(valid_rnn_accuracies) - min(valid_rnn_accuracies):.4f}\")\n",
    "    print(f\" Average Accuracy (valid only): {np.mean(valid_rnn_accuracies):.4f}\")\n",
    "else:\n",
    "    print(f\"\\nRNN Performance Analysis:\")\n",
    "    print(f\" All radius values failed to make predictions\")\n",
    "\n"
   ]
  },
  {
   "cell_type": "code",
   "execution_count": 17,
   "id": "3ad5c6ab-71c8-4888-b49e-43956baced21",
   "metadata": {},
   "outputs": [
    {
     "name": "stdout",
     "output_type": "stream",
     "text": [
      " KNN Parameter Sensitivity:\n",
      " Standard Deviation: 0.0111\n",
      " Coefficient of Variation: 1.17%\n",
      " Sensitivity Level: Low\n",
      "\n",
      "RNN Parameter Sensitivity:\n",
      "Standard Deviation (valid): 0.0000\n",
      "Coefficient of Variation: 0.00%\n",
      "Failure Rate: 0.0%\n",
      " Sensitivity Level: Very High (due to failures)\n"
     ]
    }
   ],
   "source": [
    "#Parameter Sensitivity Analysis\n",
    "# KNN Sensitivity\n",
    "knn_std = np.std(knn_accuracies)\n",
    "print(f\" KNN Parameter Sensitivity:\")\n",
    "print(f\" Standard Deviation: {knn_std:.4f}\")\n",
    "print(f\" Coefficient of Variation: {knn_std/np.mean(knn_accuracies)*100:.2f}%\")\n",
    "if knn_std < 0.05:\n",
    "    knn_sensitivity = \"Low\"\n",
    "elif knn_std < 0.1:\n",
    "    knn_sensitivity = \"Moderate\"\n",
    "else:\n",
    "    knn_sensitivity = \"High\"\n",
    "print(f\" Sensitivity Level: {knn_sensitivity}\")\n",
    "\n",
    "# RNN Sensitivity\n",
    "if len(valid_rnn_accuracies) > 1:\n",
    "    rnn_std = np.std(valid_rnn_accuracies)\n",
    "    print(f\"\\nRNN Parameter Sensitivity:\")\n",
    "    print(f\"Standard Deviation (valid): {rnn_std:.4f}\")\n",
    "    print(f\"Coefficient of Variation: {rnn_std/np.mean(valid_rnn_accuracies)*100:.2f}%\")\n",
    "    print(f\"Failure Rate: {failed_predictions/len(r_values)*100:.1f}%\")\n",
    "    rnn_sensitivity = \"Very High (due to failures)\"\n",
    "else:\n",
    "    rnn_sensitivity = \"Extremely High (mostly failed)\"\n",
    "\n",
    "print(f\" Sensitivity Level: {rnn_sensitivity}\")"
   ]
  },
  {
   "cell_type": "code",
   "execution_count": null,
   "id": "7f47ec47-e41d-4e57-9ff6-f991e467813f",
   "metadata": {},
   "outputs": [],
   "source": []
  }
 ],
 "metadata": {
  "kernelspec": {
   "display_name": "Python [conda env:base] *",
   "language": "python",
   "name": "conda-base-py"
  },
  "language_info": {
   "codemirror_mode": {
    "name": "ipython",
    "version": 3
   },
   "file_extension": ".py",
   "mimetype": "text/x-python",
   "name": "python",
   "nbconvert_exporter": "python",
   "pygments_lexer": "ipython3",
   "version": "3.12.7"
  }
 },
 "nbformat": 4,
 "nbformat_minor": 5
}
